version https://git-lfs.github.com/spec/v1
oid sha256:2eee6f02ad1dfca1dfacecdb570d432a7d7a2177a96e4038f78b8bef25fc2821
size 92991
